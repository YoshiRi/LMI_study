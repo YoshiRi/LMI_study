{
 "cells": [
  {
   "cell_type": "markdown",
   "metadata": {},
   "source": [
    "# 概要\n",
    "\n",
    "$H_2$最適化問題をLMIを用いて解く。\n",
    "\n",
    "## おまじないHere\n",
    "$$\n",
    "\\newcommand{\\bm}[1]{{\\bf #1}}\n",
    "\\newcommand{\\eq}[1]{Eq.(\\ref{eq:#1})}\n",
    "\\newcommand{\\zu}[1]{図\\ref{fig:#1}}\n",
    "\\newcommand{\\shiki}[1]{式(\\ref{eq:#1})}\n",
    "\\newcommand{\\fig}[1]{Fig.\\ \\ref{fig:#1}}\n",
    "\\newcommand{\\grp}[1]{Fig.\\ \\ref{grp:#1}}\n",
    "\\newcommand{\\tab}[1]{Table\\ \\ref{tab:#1}}\n",
    "\\newcommand{\\defeq}{:=}\n",
    "\\newcommand{\\tvec}[1]{\\bvec{#1}^{\\mathsf{T}}} \n",
    "\\newcommand{\\mr}[1]{\\mathrm{#1}}%rm体\n",
    "\\newcommand{\\ml}[1]{\\mathcal{#1}}%frac体\n",
    "\\newcommand{\\bmat}[1]{\\begin{bmatrix} #1 \\end{bmatrix}}%行列簡略化\n",
    "\\newcommand{\\pmat}[1]{\\begin{pmatrix} #1 \\end{pmatrix}}%行列簡略化\n",
    "\\newcommand{\\mat}[1]{\\left( \\begin{matrix} #1 \\end{matrix} \\right)}%行列簡略化\n",
    "%\\newcommand{\\nom}[1]{ \\ml{N} \\{ 0,\\sigma_{ #1 } \\} }\n",
    "\\newcommand{\\expo}[1]{ \\mathrm{e}^{#1} }\n",
    "$$\n",
    "\n",
    "Texプリアンブル＋Yalmipの初期設定記述箇所。\n",
    "\n",
    "addpathでSeDumiやSDpt3などのソルバをインストール。\n"
   ]
  },
  {
   "cell_type": "code",
   "execution_count": 2,
   "metadata": {},
   "outputs": [
    {
     "data": {
      "text/html": [
       "<style>\n",
       "#notebook-container {\n",
       "    width: 90%;\n",
       "    background-color: #EEE\n",
       "}\n",
       "\n",
       ".code_cell {\n",
       "   flex-direction: row !important;\n",
       "}\n",
       "\n",
       ".code_cell .output_wrapper {\n",
       "    width: 50%;\n",
       "    background-color: #FFF\n",
       "}\n",
       "\n",
       ".code_cell .input {\n",
       "    width: 50%;\n",
       "    background-color: #FFF\n",
       "}\n",
       "</style>"
      ],
      "text/plain": [
       "<IPython.core.display.HTML object>"
      ]
     },
     "metadata": {},
     "output_type": "display_data"
    }
   ],
   "source": [
    "%%html\n",
    "<style>\n",
    "#notebook-container {\n",
    "    width: 90%;\n",
    "    background-color: #EEE\n",
    "}\n",
    "\n",
    ".code_cell {\n",
    "   flex-direction: row !important;\n",
    "}\n",
    "\n",
    ".code_cell .output_wrapper {\n",
    "    width: 50%;\n",
    "    background-color: #FFF\n",
    "}\n",
    "\n",
    ".code_cell .input {\n",
    "    width: 50%;\n",
    "    background-color: #FFF\n",
    "}\n",
    "</style>"
   ]
  },
  {
   "cell_type": "code",
   "execution_count": 3,
   "metadata": {},
   "outputs": [
    {
     "name": "stdout",
     "output_type": "stream",
     "text": [
      "\n"
     ]
    }
   ],
   "source": [
    "addpath(genpath('C:\\Users\\hkedw\\Documents\\MATLAB\\SeDuMi_1_3'))\n",
    "addpath(genpath('C:\\Users\\hkedw\\Documents\\MATLAB\\SDpt3-4.0'))\n",
    "addpath(genpath('C:\\Users\\hkedw\\Documents\\MATLAB\\YALMIP-master'))"
   ]
  },
  {
   "cell_type": "markdown",
   "metadata": {},
   "source": [
    "\n",
    "# H2ノルム\n",
    "\n",
    "以下の系におけるH2ノルムは\n",
    "$$\n",
    "x_{k+1}=Ax_{k}+Bu_{k}\\\\\n",
    "y_{k}=Cx_{k}+Du_{k}\n",
    "$$\n",
    "次のようになる。\n",
    "\n",
    "$$\n",
    "||G||_2^2 = \\mbox{trace}(D^\\top D+B^\\top  P_0B) \\\\\n",
    "\\mbox{while,}\\  P_0 = A^\\top P_0 A + C^\\top C\n",
    "$$\n",
    "\n",
    "直感的には，\n",
    "- The energy of the impulse response\n",
    "- The energy of the response to initial conditions\n",
    "- The (expected) power of the response to white noise\n",
    "などだろう\n"
   ]
  },
  {
   "cell_type": "code",
   "execution_count": 42,
   "metadata": {
    "scrolled": true
   },
   "outputs": [
    {
     "name": "stdout",
     "output_type": "stream",
     "text": [
      "\n",
      "s =\n",
      " \n",
      "  s\n",
      " \n",
      "連続時間の伝達関数です。\n",
      "\n",
      "\n",
      "ans =\n",
      " \n",
      "          14.04\n",
      "  ---------------------\n",
      "  s^2 + 9.761 s + 10.96\n",
      " \n",
      "連続時間の伝達関数です。\n",
      "\n",
      "\n",
      "ans =\n",
      " \n",
      "          14.04\n",
      "  ---------------------\n",
      "  s^2 + 9.761 s + 10.96\n",
      " \n",
      "連続時間の伝達関数です。\n",
      "\n",
      "\n",
      "ans =\n",
      "\n",
      "     2\n",
      "\n",
      "\n",
      "ans =\n",
      "\n",
      "   -1.2947\n",
      "   -8.4665\n",
      "\n",
      "\n",
      "sys_d =\n",
      " \n",
      "  A = \n",
      "              x1         x2\n",
      "   x1          1  0.0009951\n",
      "   x2   -0.01091     0.9903\n",
      " \n",
      "  B = \n",
      "            u1\n",
      "   x1    7e-06\n",
      "   x2  0.01398\n",
      " \n",
      "  C = \n",
      "       x1  x2\n",
      "   y1   1   0\n",
      " \n",
      "  D = \n",
      "       u1\n",
      "   y1   0\n",
      " \n",
      "サンプル時間:  0.001 seconds\n",
      "離散時間状態空間モデル。\n",
      "\n",
      "\n"
     ]
    }
   ],
   "source": [
    "% ----------\n",
    "J  = 0.0712;  M  = 0.390;  mu = 0.695;\n",
    "l  = 0.204;   g  = 9.81;\n",
    "\n",
    "A_c = [     0      1\n",
    "      -M*g*l/J  -mu/J ];\n",
    "B_c = [  0\n",
    "      1/J ];\n",
    "C_c = [1 0];\n",
    "D_c = [0];\n",
    "\n",
    "%% system analysys\n",
    "s = tf('s')\n",
    "minreal(C_c*inv(s*eye(2) -A_c)*B_c)\n",
    "tf(ss(A_c,B_c,C_c,D_c))\n",
    "\n",
    "rank(obsv(A_c,C_c))\n",
    "eig(A_c)\n",
    "\n",
    "ST = 1e-3;\n",
    "sys_d = c2d(ss(A_c,B_c,C_c,D_c),ST)\n",
    "A = sys_d.A;\n",
    "B = sys_d.B;\n",
    "C = sys_d.C;\n",
    "D = sys_d.D;"
   ]
  },
  {
   "cell_type": "code",
   "execution_count": 50,
   "metadata": {},
   "outputs": [
    {
     "name": "stdout",
     "output_type": "stream",
     "text": [
      "\n",
      "H2norm_square =\n",
      "\n",
      "   9.2177e-04\n",
      "\n",
      "\n"
     ]
    }
   ],
   "source": [
    "% matlab function \n",
    "\n",
    "H2norm_square= norm(sys_d,2)^2"
   ]
  },
  {
   "cell_type": "code",
   "execution_count": 49,
   "metadata": {
    "scrolled": true
   },
   "outputs": [
    {
     "name": "stdout",
     "output_type": "stream",
     "text": [
      "\n",
      "P0 =\n",
      "\n",
      "  496.9598   45.6127\n",
      "   45.6127    4.6728\n",
      "\n",
      "\n",
      "confirmP0 =\n",
      "\n",
      "  496.9598   45.6127\n",
      "   45.6127    4.6728\n",
      "\n",
      "\n",
      "X0 =\n",
      "\n",
      "    0.0009    0.0000\n",
      "    0.0000    0.0101\n",
      "\n",
      "\n",
      "confirmX0 =\n",
      "\n",
      "    0.0009    0.0000\n",
      "    0.0000    0.0101\n",
      "\n",
      "\n",
      "H2_square =\n",
      "\n",
      "   9.2177e-04\n",
      "\n",
      "\n",
      "H2_square =\n",
      "\n",
      "   9.2177e-04\n",
      "\n",
      "\n"
     ]
    }
   ],
   "source": [
    "%% calculation with dlyap\n",
    "P0 = dlyap(A',C'*C)\n",
    "confirmP0 = A'*P0*A+C'*C\n",
    "\n",
    "X0 = dlyap(A,B*B')\n",
    "confirmX0 = A*X0*A'+B*B'\n",
    "\n",
    "H2_square = trace(D'*D+B'*P0*B)\n",
    "H2_square = trace(D*D'+C*X0*C')"
   ]
  },
  {
   "cell_type": "markdown",
   "metadata": {},
   "source": [
    "## LMI に依るH2ノルム導出\n",
    "\n",
    "$H_2$norm が$||G||_2<\\gamma$を満たす時，\n",
    "\n",
    "その必要十分条件は，\n",
    "\n",
    "$$\n",
    "A^\\top PA-P+C^\\top C \\prec 0 \\\\\n",
    "Z - D^\\top D - B^\\top P B \\succ 0\\\\\n",
    "trace(Z)<\\gamma^2\n",
    "$$\n",
    "となる。これをschurの補題を適用して得られるLMI条件は，$P,Z$に関して\n",
    "\n",
    "$$\n",
    "\\bmat{A^\\top P A - P & C^\\top\\\\\n",
    "C & - I} \\prec 0\\\\\n",
    "\\bmat{Z - B^\\top P B & D^\\top\\\\\n",
    "D &  I} \\succ 0\\\\\n",
    "trace(Z) < \\gamma\n",
    "$$\n",
    "\n",
    "となる。\n",
    "\n",
    "\n",
    "教科書によると以下の様に変形したものもある。何が違うのか。ステップ数も変わらなかったので不透明である。\n",
    "\n",
    "$$\n",
    "\\bmat{A^\\top P A - P & C^\\top\\\\\n",
    "C & -\\gamma I} \\prec 0\\\\\n",
    "\\bmat{Z - B^\\top P B & D^\\top\\\\\n",
    "D & \\gamma I} \\succ 0\\\\\n",
    "trace(Z) < \\gamma\n",
    "$$\n",
    "\n",
    "この場合最適化される$P$は$P_0$と異なることに注意されたい。"
   ]
  },
  {
   "cell_type": "code",
   "execution_count": 58,
   "metadata": {
    "scrolled": true
   },
   "outputs": [
    {
     "name": "stdout",
     "output_type": "stream",
     "text": [
      "Linear matrix variable 2x2 (symmetric, real, 3 variables)\n",
      "Linear scalar (real, 1 variable)\n",
      "Linear scalar (real, 1 variable)\n",
      "警告: Strict inequalities are not supported. A non-strict has been added instead')\n",
      "> In < (line 12)\n",
      "警告: Strict inequalities are not supported. A non-strict has been added instead')\n",
      "> In > (line 12)\n",
      "警告: Strict inequalities are not supported. A non-strict has been added instead')\n",
      "> In < (line 12)\n",
      "SeDuMi 1.3 by AdvOL, 2005-2008 and Jos F. Sturm, 1998-2003.\n",
      "Alg = 2: xz-corrector, theta = 0.250, beta = 0.500\n",
      "eqs m = 5, order n = 7, dim = 15, blocks = 3\n",
      "nnz(A) = 15 + 0, nnz(ADA) = 19, nnz(L) = 12\n",
      " it :     b*y       gap    delta  rate   t/tP*  t/tD*   feas cg cg  prec\n",
      "  0 :            4.02E+00 0.000\n",
      "  1 :  -4.97E-02 8.93E-01 0.000 0.2218 0.9000 0.9000   1.75  1  1  1.2E+00\n",
      "  2 :   2.59E-03 3.35E-02 0.000 0.0375 0.9900 0.9900   1.30  1  1  5.7E-01\n",
      "  3 :  -3.35E-03 2.08E-03 0.000 0.0620 0.9900 0.9900   1.26  1  1  3.6E-01\n",
      "  4 :  -9.64E-04 6.31E-05 0.000 0.0304 0.9900 0.9900   1.27  1  1  2.8E-02\n",
      "  5 :  -9.24E-04 1.63E-05 0.000 0.2580 0.9000 0.9000   1.02  1  1  7.0E-03\n",
      "  6 :  -9.22E-04 5.32E-06 0.000 0.3269 0.9000 0.9000   1.00  1  1  2.1E-03\n",
      "  7 :  -9.22E-04 1.11E-06 0.000 0.2090 0.9000 0.9000   1.00  1  1  4.2E-04\n",
      "  8 :  -9.22E-04 4.15E-08 0.000 0.0373 0.9900 0.9900   1.00  1  1  1.6E-05\n",
      "  9 :  -9.22E-04 1.47E-09 0.000 0.0353 0.9900 0.9900   1.00  1  1  5.2E-07\n",
      " 10 :  -9.22E-04 2.77E-10 0.000 0.1892 0.9000 0.9000   1.00  1  1  9.8E-08\n",
      " 11 :  -9.22E-04 1.01E-11 0.000 0.0364 0.9900 0.9900   1.00  1  1  3.5E-09\n",
      " 12 :  -9.22E-04 7.05E-13 0.000 0.0698 0.9900 0.9900   1.00  1  1  2.4E-10\n",
      "\n",
      "iter seconds digits       c*x               b*y\n",
      " 12      0.0   9.2 -9.2176671373e-04 -9.2176671429e-04\n",
      "|Ax-b| =   7.5e-14, [Ay-c]_+ =   3.1E-14, |x|=  1.4e+00, |y|=  5.0e+02\n",
      "\n",
      "Detailed timing (sec)\n",
      "   Pre          IPM          Post\n",
      "3.900E-02    3.700E-02    2.002E-03    \n",
      "Max-norms: ||b||=1, ||c|| = 2,\n",
      "Cholesky |add|=0, |skip| = 0, ||L.L|| = 10.9435.\n",
      "\n",
      "LMI_H2_sq =\n",
      "\n",
      "   8.4965e-07\n",
      "\n",
      "\n",
      "LMI_H2P0 =\n",
      "\n",
      "  496.9598   45.6127\n",
      "   45.6127    4.6728\n",
      "\n",
      "\n"
     ]
    }
   ],
   "source": [
    "%% pattern1\n",
    "row=size(A,1);col=size(A,2);\n",
    "\n",
    "\n",
    "P = sdpvar(row,col,'symmetric')\n",
    "Z = sdpvar(1,1,'symmetric')\n",
    "gamma = sdpvar(1)\n",
    "\n",
    "LMI = [];\n",
    "LMI = [LMI, [A'*P*A-P C';C -eye(1)]<0 ];\n",
    "LMI = [LMI, [Z-B'*P*B D';D eye(1)]>0 ];\n",
    "LMI = [LMI, trace(Z)<gamma];\n",
    "\n",
    "sol1=solvesdp(LMI,gamma);\n",
    "\n",
    "LMI_H2_sq = double(gamma)\n",
    "LMI_H2P0 = double(P)\n"
   ]
  },
  {
   "cell_type": "code",
   "execution_count": 59,
   "metadata": {
    "scrolled": true
   },
   "outputs": [
    {
     "name": "stdout",
     "output_type": "stream",
     "text": [
      "Linear matrix variable 2x2 (symmetric, real, 3 variables)\n",
      "Linear scalar (real, 1 variable)\n",
      "Linear scalar (real, 1 variable)\n",
      "警告: Strict inequalities are not supported. A non-strict has been added instead')\n",
      "> In < (line 12)\n",
      "警告: Strict inequalities are not supported. A non-strict has been added instead')\n",
      "> In > (line 12)\n",
      "警告: Strict inequalities are not supported. A non-strict has been added instead')\n",
      "> In < (line 12)\n",
      "SeDuMi 1.3 by AdvOL, 2005-2008 and Jos F. Sturm, 1998-2003.\n",
      "Alg = 2: xz-corrector, theta = 0.250, beta = 0.500\n",
      "eqs m = 5, order n = 7, dim = 15, blocks = 3\n",
      "nnz(A) = 17 + 0, nnz(ADA) = 25, nnz(L) = 15\n",
      " it :     b*y       gap    delta  rate   t/tP*  t/tD*   feas cg cg  prec\n",
      "  0 :            4.02E+00 0.000\n",
      "  1 :  -1.21E+00 1.28E+00 0.000 0.3178 0.9000 0.9000   1.42  1  1  2.2E+00\n",
      "  2 :  -4.37E-01 3.17E-01 0.000 0.2480 0.9000 0.9000   1.98  1  1  4.1E-01\n",
      "  3 :  -2.47E-01 9.13E-02 0.000 0.2880 0.9000 0.9000   0.96  1  1  1.5E-01\n",
      "  4 :  -1.29E-01 2.36E-02 0.000 0.2583 0.9000 0.9000   0.68  1  1  4.1E-02\n",
      "  5 :  -8.62E-02 7.31E-03 0.000 0.3100 0.9000 0.9000   0.65  1  1  1.1E-02\n",
      "  6 :  -5.45E-02 2.21E-03 0.000 0.3019 0.9000 0.9000   0.57  1  1  4.6E-03\n",
      "  7 :  -4.23E-02 7.26E-04 0.000 0.3288 0.9000 0.9000   0.68  1  1  1.8E-03\n",
      "  8 :  -3.22E-02 1.75E-04 0.000 0.2418 0.9000 0.9000   0.64  1  1  5.5E-04\n",
      "  9 :  -3.04E-02 5.50E-06 0.000 0.0314 0.9900 0.9900   0.96  1  1  1.7E-05\n",
      " 10 :  -3.04E-02 3.24E-08 0.000 0.0059 0.9990 0.9990   1.00  1  1  1.0E-07\n",
      " 11 :  -3.04E-02 1.28E-09 0.000 0.0394 0.9900 0.9900   1.00  1  1  4.0E-09\n",
      " 12 :  -3.04E-02 7.85E-11 0.000 0.0615 0.9900 0.9900   1.00  1  1  2.5E-10\n",
      "\n",
      "iter seconds digits       c*x               b*y\n",
      " 12      0.0   8.2 -3.0360612239e-02 -3.0360612047e-02\n",
      "|Ax-b| =   1.8e-10, [Ay-c]_+ =   0.0E+00, |x|=  8.7e-01, |y|=  1.6e+04\n",
      "\n",
      "Detailed timing (sec)\n",
      "   Pre          IPM          Post\n",
      "4.999E-03    3.401E-02    2.002E-03    \n",
      "Max-norms: ||b||=1, ||c|| = 2,\n",
      "Cholesky |add|=0, |skip| = 0, ||L.L|| = 18033.5.\n",
      "\n",
      "LMI_H2_sq =\n",
      "\n",
      "   9.2177e-04\n",
      "\n",
      "\n",
      "LMI_H2P0 =\n",
      "\n",
      "   1.0e+04 *\n",
      "\n",
      "    1.6369    0.1502\n",
      "    0.1502    0.0154\n",
      "\n",
      "\n"
     ]
    }
   ],
   "source": [
    "%% pattern2 \n",
    "row=size(A,1);col=size(A,2);\n",
    "\n",
    "\n",
    "P = sdpvar(row,col,'symmetric')\n",
    "Z = sdpvar(1,1,'symmetric')\n",
    "gamma = sdpvar(1)\n",
    "\n",
    "LMI = [];\n",
    "LMI = [LMI, [A'*P*A-P C';C -gamma*eye(1)]<0 ];\n",
    "LMI = [LMI, [Z-B'*P*B D';D gamma*eye(1)]>0 ];\n",
    "LMI = [LMI, trace(Z)<gamma];\n",
    "\n",
    "sol2=solvesdp(LMI,gamma);\n",
    "\n",
    "LMI_H2_sq = double(gamma)^2\n"
   ]
  },
  {
   "cell_type": "code",
   "execution_count": 65,
   "metadata": {
    "scrolled": true
   },
   "outputs": [
    {
     "name": "stdout",
     "output_type": "stream",
     "text": [
      "Linear matrix variable 2x2 (symmetric, real, 3 variables)\n",
      "Linear scalar (real, 1 variable)\n",
      "Linear scalar (real, 1 variable)\n",
      "警告: Strict inequalities are not supported. A non-strict has been added instead')\n",
      "> In < (line 12)\n",
      "警告: Strict inequalities are not supported. A non-strict has been added instead')\n",
      "> In > (line 12)\n",
      "警告: Strict inequalities are not supported. A non-strict has been added instead')\n",
      "> In < (line 12)\n",
      "SeDuMi 1.3 by AdvOL, 2005-2008 and Jos F. Sturm, 1998-2003.\n",
      "Alg = 2: xz-corrector, theta = 0.250, beta = 0.500\n",
      "eqs m = 5, order n = 7, dim = 15, blocks = 3\n",
      "nnz(A) = 13 + 0, nnz(ADA) = 15, nnz(L) = 10\n",
      " it :     b*y       gap    delta  rate   t/tP*  t/tD*   feas cg cg  prec\n",
      "  0 :            5.14E+00 0.000\n",
      "  1 :   2.92E+02 1.16E-01 0.000 0.0226 0.9900 0.9900  -0.99  1  1  3.4E+00\n",
      "  2 :   2.48E+02 4.99E-02 0.000 0.4299 0.9000 0.9000  -0.38  1  1  1.9E+00\n",
      "  3 :   2.69E+01 1.47E-02 0.000 0.2935 0.9000 0.9000   1.36  1  1  4.3E-01\n",
      "  4 :   3.96E-01 3.71E-04 0.000 0.0254 0.9900 0.9900   1.02  1  1  1.0E-02\n",
      "  5 :  -9.16E-04 1.15E-08 0.000 0.0000 1.0000 1.0000   1.00  1  1  3.3E-07\n",
      "  6 :  -9.21E-04 4.22E-10 0.275 0.0365 0.9900 0.9900   1.00  1  1  1.2E-08\n",
      "  7 :  -9.21E-04 1.95E-10 0.166 0.4626 0.9000 0.9000   1.00  1  1  5.5E-09\n",
      "  8 :  -9.22E-04 4.06E-11 0.000 0.2083 0.9000 0.9000   1.00  1  1  1.1E-09\n",
      "  9 :  -9.22E-04 2.88E-13 0.000 0.0071 0.9990 0.9990   1.00  1  1  8.1E-12\n",
      "\n",
      "iter seconds digits       c*x               b*y\n",
      "  9      0.0   6.1 -9.2176585834e-04 -9.2176514811e-04\n",
      "|Ax-b| =   4.6e-12, [Ay-c]_+ =   3.8E-10, |x|=  5.0e+02, |y|=  1.0e-02\n",
      "\n",
      "Detailed timing (sec)\n",
      "   Pre          IPM          Post\n",
      "5.995E-03    3.201E-02    2.002E-03    \n",
      "Max-norms: ||b||=1, ||c|| = 1,\n",
      "Cholesky |add|=0, |skip| = 0, ||L.L|| = 1.\n",
      "\n",
      "LMI_H2_sq =\n",
      "\n",
      "   9.2177e-04\n",
      "\n",
      "\n"
     ]
    }
   ],
   "source": [
    "%% pattern3\n",
    "\n",
    "X = sdpvar(row,col,'symmetric')\n",
    "W = sdpvar(1,1,'symmetric')\n",
    "gamma = sdpvar(1)\n",
    "\n",
    "LMI = [];\n",
    "LMI = [LMI, [A*X*A'-X B;B' -eye(1)]<0 ];\n",
    "LMI = [LMI, [W-C*X*C' D;D' eye(1)]>0 ];\n",
    "LMI = [LMI, trace(W)<gamma];\n",
    "\n",
    "sol3=solvesdp(LMI,gamma);\n",
    "\n",
    "\n",
    "LMI_H2_sq = double(gamma)\n"
   ]
  },
  {
   "cell_type": "code",
   "execution_count": null,
   "metadata": {},
   "outputs": [],
   "source": []
  },
  {
   "cell_type": "markdown",
   "metadata": {},
   "source": [
    "## BMIとして解こうとするやつ\n",
    "\n",
    "ソルバがないらしい。"
   ]
  },
  {
   "cell_type": "code",
   "execution_count": 70,
   "metadata": {},
   "outputs": [
    {
     "name": "stdout",
     "output_type": "stream",
     "text": [
      "Linear matrix variable 2x2 (symmetric, real, 3 variables)\n",
      "Linear scalar (real, 1 variable)\n",
      "Linear matrix variable 2x1 (full, real, 2 variables)\n",
      "Linear scalar (real, 1 variable)\n",
      "警告: Strict inequalities are not supported. A non-strict has been added instead')\n",
      "> In < (line 12)\n",
      "警告: Strict inequalities are not supported. A non-strict has been added instead')\n",
      "> In > (line 12)\n",
      "警告: Strict inequalities are not supported. A non-strict has been added instead')\n",
      "> In < (line 12)\n",
      "\n",
      "ans = \n",
      "\n",
      "  フィールドをもつ struct:\n",
      "\n",
      "    solvertime: 0\n",
      "          info: 'No suitable solver'\n",
      "       problem: -2\n",
      "    yalmiptime: 0.0360\n",
      "\n",
      "\n"
     ]
    }
   ],
   "source": [
    "\n",
    "X = sdpvar(row,col,'symmetric')\n",
    "W = sdpvar(1,1,'symmetric')\n",
    "K = sdpvar(2,1)\n",
    "gamma = sdpvar(1)\n",
    "\n",
    "BMI = [];\n",
    "BMI = [BMI, [(A-K*C*A)*X*(A-K*C*A)'-X K;K' -eye(1)]<0 ];\n",
    "BMI = [BMI, [W-[1,0]*X*[1,0]' D;D' eye(1)]>0 ];\n",
    "BMI = [BMI, trace(W)<gamma];\n",
    "\n",
    "options = sdpsettings('solver','bmibnb');\n",
    "optimize(BMI,gamma,options)"
   ]
  },
  {
   "cell_type": "code",
   "execution_count": 67,
   "metadata": {
    "scrolled": true
   },
   "outputs": [
    {
     "name": "stdout",
     "output_type": "stream",
     "text": [
      "++++++++++++++++++++++++++++++++++++++++++++++++++\n",
      "|   ID|                                Constraint|\n",
      "++++++++++++++++++++++++++++++++++++++++++++++++++\n",
      "|   #1|   Element-wise inequality (quadratic) 1x1|\n",
      "|   #2|               Element-wise inequality 1x1|\n",
      "|   #3|               Element-wise inequality 1x1|\n",
      "|   #4|               Element-wise inequality 1x1|\n",
      "|   #5|               Element-wise inequality 1x1|\n",
      "|   #6|               Element-wise inequality 1x1|\n",
      "|   #7|               Element-wise inequality 1x1|\n",
      "|   #8|               Element-wise inequality 1x1|\n",
      "++++++++++++++++++++++++++++++++++++++++++++++++++\n",
      "* Starting YALMIP global branch & bound.\n",
      "* Branch-variables : 3\n",
      "* Upper solver     : fmincon\n",
      "* Lower solver     : LINPROG\n",
      "* LP solver        : LINPROG\n",
      " Node       Upper      Gap(%)       Lower    Open\n",
      "    1 :   -4.000E+00    33.33     -6.000E+00   2  Improved solution  \n",
      "    2 :   -4.000E+00    33.33     -6.000E+00   3    \n",
      "    3 :   -4.000E+00    15.57     -4.844E+00   4    \n",
      "    4 :   -4.000E+00    15.57     -4.844E+00   3  Infeasible  \n",
      "    5 :   -4.000E+00    10.76     -4.569E+00   2  Poor bound  \n",
      "    6 :   -4.000E+00    10.76     -4.569E+00   3    \n",
      "    7 :   -4.000E+00     0.02     -4.001E+00   2  Infeasible  \n",
      "* Finished.  Cost: -4 Gap: 0.020194\n",
      "* Termination with relative gap satisfied \n",
      "* Timing: 25% spent in upper solver (4 problems solved)\n",
      "*         2% spent in lower solver (11 problems solved)\n",
      "*         32% spent in LP-based domain reduction (106 problems solved)\n",
      "\n"
     ]
    }
   ],
   "source": [
    "%% BMI test\n",
    "x1 = sdpvar(1,1);\n",
    "x2 = sdpvar(1,1);\n",
    "x3 = sdpvar(1,1);\n",
    "p = -2*x1+x2-x3;\n",
    "F = [x1*(4*x1-4*x2+4*x3-20)+x2*(2*x2-2*x3+9)+x3*(2*x3-13)+24>=0,\n",
    "     4-(x1+x2+x3)>=0,\n",
    "      6-(3*x2+x3)>=0,\n",
    "               x1>=0,\n",
    "             2-x1>=0,\n",
    "               x2>=0,\n",
    "               x3>=0,\n",
    "             3-x3>=0]\n",
    "\n",
    "options = sdpsettings('solver','bmibnb');\n",
    "optimize(F,p,options);"
   ]
  },
  {
   "cell_type": "markdown",
   "metadata": {},
   "source": [
    "## H2最適化問題\n",
    "\n",
    "一般化プラントに対してフィードバック制御系を設計することを考える。\n",
    "\n",
    "\n",
    "$$\n",
    "\\begin{array}{l}{\\dot{x}(t)=A x(t)+B_{w} w(t)+B_{u} u(t), \\quad x(0)=x_{0}} \\\\ {z(t)=C_{z} x(t)+D_{z w} w(t)+D_{z u} u(t)} \\\\ {y(t)=C_{y} x(t)+D_{y w} w(t)+D_{y u} u(t)}\\end{array}\n",
    "$$\n",
    "\n"
   ]
  },
  {
   "cell_type": "code",
   "execution_count": 80,
   "metadata": {},
   "outputs": [
    {
     "name": "stdout",
     "output_type": "stream",
     "text": [
      "\n",
      "A =\n",
      "\n",
      "    1.0000    0.0010\n",
      "   -0.0109    0.9903\n",
      "\n",
      "\n",
      "C =\n",
      "\n",
      "     1     0\n",
      "\n",
      "\n"
     ]
    }
   ],
   "source": [
    "A\n",
    "C"
   ]
  },
  {
   "cell_type": "code",
   "execution_count": null,
   "metadata": {},
   "outputs": [],
   "source": []
  },
  {
   "cell_type": "markdown",
   "metadata": {},
   "source": [
    "# 超原始的に解く\n",
    "\n",
    "- Poleを決める。離散化する\n",
    "- Kゲインを決める。\n",
    "- その後評価関数を決める→Optimalかどうかはわからんが…\n",
    "\n",
    "Sampling: 1ms\n",
    "Speed : 25Hz\n",
    "重根 VS 他の配置\n",
    "\n",
    "結果は重根の方が良かった。うーん。\n"
   ]
  },
  {
   "cell_type": "code",
   "execution_count": 99,
   "metadata": {},
   "outputs": [
    {
     "name": "stdout",
     "output_type": "stream",
     "text": [
      "\n"
     ]
    }
   ],
   "source": [
    "RealPart =1*2*pi;\n",
    "len = 100;\n",
    "\n",
    "Ks = zeros(2,len);\n",
    "Pends = zeros(2,len);\n",
    "Omega = diag([0.1]);\n",
    "\n",
    "for i = 1:len\n",
    "\n",
    "c_pole = [i*1j,-i*1j]-RealPart;\n",
    "\n",
    "d_pole = exp(ST*c_pole);\n",
    "K = place(A',A'*C',d_pole)';\n",
    "Ks(:,i) = K;\n",
    "\n",
    "Pend=dlyap(A-K*C*A,K*Omega*K');\n",
    "Pends(:,i)=reshape(diag(Pend),2,1);\n",
    "\n",
    "end"
   ]
  },
  {
   "cell_type": "code",
   "execution_count": 92,
   "metadata": {
    "scrolled": true
   },
   "outputs": [
    {
     "name": "stdout",
     "output_type": "stream",
     "text": [
      "\n"
     ]
    },
    {
     "data": {
      "image/png": "[encoded data removed]",
      "text/plain": [
       "<IPython.core.display.Image object>"
      ]
     },
     "metadata": {},
     "output_type": "display_data"
    },
    {
     "data": {
      "image/png": "[encoded data removed]",
      "text/plain": [
       "<IPython.core.display.Image object>"
      ]
     },
     "metadata": {},
     "output_type": "display_data"
    }
   ],
   "source": [
    "%% for 25Hz do not touch!\n",
    "figure\n",
    "xl = reshape(1:len,len,1);\n",
    "plot(xl,Ks')\n",
    "legend('k_1','k_2')\n",
    "\n",
    "figure\n",
    "plot(xl,Pends')\n",
    "legend('p_1','p_2')\n"
   ]
  },
  {
   "cell_type": "code",
   "execution_count": 100,
   "metadata": {
    "scrolled": true
   },
   "outputs": [
    {
     "name": "stdout",
     "output_type": "stream",
     "text": [
      "\n"
     ]
    },
    {
     "data": {
      "image/png": "[encoded data removed]",
      "text/plain": [
       "<IPython.core.display.Image object>"
      ]
     },
     "metadata": {},
     "output_type": "display_data"
    },
    {
     "data": {
      "image/png": "[encoded data removed]",
      "text/plain": [
       "<IPython.core.display.Image object>"
      ]
     },
     "metadata": {},
     "output_type": "display_data"
    }
   ],
   "source": [
    "%% for 1Hz do not touch!\n",
    "figure\n",
    "xl = reshape(1:len,len,1);\n",
    "plot(xl,Ks')\n",
    "legend('k_1','k_2')\n",
    "\n",
    "figure\n",
    "plot(xl,Pends')\n",
    "legend('p_1','p_2')\n"
   ]
  },
  {
   "cell_type": "code",
   "execution_count": 101,
   "metadata": {},
   "outputs": [
    {
     "name": "stdout",
     "output_type": "stream",
     "text": [
      "\n",
      "ans =\n",
      "\n",
      "    0.0001    0.0001    0.0001    0.0002    0.0002\n",
      "    0.0001    0.0002    0.0005    0.0012    0.0028\n",
      "\n",
      "\n"
     ]
    }
   ],
   "source": [
    "Pends(:,1:5)"
   ]
  },
  {
   "cell_type": "code",
   "execution_count": 98,
   "metadata": {},
   "outputs": [
    {
     "name": "stdout",
     "output_type": "stream",
     "text": [
      "\n",
      "X =\n",
      "\n",
      "     0     0\n",
      "     0     0\n",
      "\n",
      "\n",
      "L =\n",
      "\n",
      "    0.9987\n",
      "    0.9916\n",
      "\n",
      "\n",
      "G =\n",
      "\n",
      "     0     0\n",
      "\n",
      "\n",
      "report =\n",
      "\n",
      "     0\n",
      "\n",
      "\n"
     ]
    }
   ],
   "source": [
    "[X,L,G,report] = dare(A',C',zeros(size(A)),Omega)"
   ]
  }
 ],
 "metadata": {
  "kernelspec": {
   "display_name": "Matlab",
   "language": "matlab",
   "name": "matlab"
  },
  "language_info": {
   "codemirror_mode": "octave",
   "file_extension": ".m",
   "help_links": [
    {
     "text": "MetaKernel Magics",
     "url": "https://github.com/calysto/metakernel/blob/master/metakernel/magics/README.md"
    }
   ],
   "mimetype": "text/x-octave",
   "name": "matlab",
   "version": "0.15.0"
  }
 },
 "nbformat": 4,
 "nbformat_minor": 2
}
